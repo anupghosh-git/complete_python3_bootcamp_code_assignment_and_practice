{
 "cells": [
  {
   "cell_type": "markdown",
   "metadata": {},
   "source": [
    "# Error and Exception Handelling\n",
    "- try:\n",
    "- except:\n",
    "- finally:\n"
   ]
  },
  {
   "cell_type": "code",
   "execution_count": 1,
   "metadata": {},
   "outputs": [],
   "source": [
    "def add(n1, n2):\n",
    "    print(n1+n2)"
   ]
  },
  {
   "cell_type": "code",
   "execution_count": 2,
   "metadata": {},
   "outputs": [
    {
     "name": "stdout",
     "output_type": "stream",
     "text": [
      "40\n"
     ]
    }
   ],
   "source": [
    "add(20,20)"
   ]
  },
  {
   "cell_type": "code",
   "execution_count": 3,
   "metadata": {},
   "outputs": [],
   "source": [
    "number1 = 20"
   ]
  },
  {
   "cell_type": "code",
   "execution_count": 4,
   "metadata": {},
   "outputs": [],
   "source": [
    "number2 = input(\"Please provide a number: \")"
   ]
  },
  {
   "cell_type": "code",
   "execution_count": 6,
   "metadata": {},
   "outputs": [
    {
     "ename": "TypeError",
     "evalue": "unsupported operand type(s) for +: 'int' and 'str'",
     "output_type": "error",
     "traceback": [
      "\u001b[0;31m---------------------------------------------------------------------------\u001b[0m",
      "\u001b[0;31mTypeError\u001b[0m                                 Traceback (most recent call last)",
      "\u001b[1;32m/home/anup_ghosh/integrify/complete_python3_bootcamp_code_assignment_and_practice/10_section_errors_and_exception_handelling.ipynb Cell 6\u001b[0m in \u001b[0;36m<cell line: 1>\u001b[0;34m()\u001b[0m\n\u001b[0;32m----> <a href='vscode-notebook-cell://wsl%2Bubuntu/home/anup_ghosh/integrify/complete_python3_bootcamp_code_assignment_and_practice/10_section_errors_and_exception_handelling.ipynb#ch0000005vscode-remote?line=0'>1</a>\u001b[0m add(number1, number2)\n\u001b[1;32m      <a href='vscode-notebook-cell://wsl%2Bubuntu/home/anup_ghosh/integrify/complete_python3_bootcamp_code_assignment_and_practice/10_section_errors_and_exception_handelling.ipynb#ch0000005vscode-remote?line=1'>2</a>\u001b[0m \u001b[39mprint\u001b[39m(\u001b[39m\"\u001b[39m\u001b[39mSomething happende!\u001b[39m\u001b[39m\"\u001b[39m)\n",
      "\u001b[1;32m/home/anup_ghosh/integrify/complete_python3_bootcamp_code_assignment_and_practice/10_section_errors_and_exception_handelling.ipynb Cell 6\u001b[0m in \u001b[0;36madd\u001b[0;34m(n1, n2)\u001b[0m\n\u001b[1;32m      <a href='vscode-notebook-cell://wsl%2Bubuntu/home/anup_ghosh/integrify/complete_python3_bootcamp_code_assignment_and_practice/10_section_errors_and_exception_handelling.ipynb#ch0000005vscode-remote?line=0'>1</a>\u001b[0m \u001b[39mdef\u001b[39;00m \u001b[39madd\u001b[39m(n1, n2):\n\u001b[0;32m----> <a href='vscode-notebook-cell://wsl%2Bubuntu/home/anup_ghosh/integrify/complete_python3_bootcamp_code_assignment_and_practice/10_section_errors_and_exception_handelling.ipynb#ch0000005vscode-remote?line=1'>2</a>\u001b[0m     \u001b[39mprint\u001b[39m(n1\u001b[39m+\u001b[39;49mn2)\n",
      "\u001b[0;31mTypeError\u001b[0m: unsupported operand type(s) for +: 'int' and 'str'"
     ]
    }
   ],
   "source": [
    "add(number1, number2)\n",
    "print(\"Something happende!\")"
   ]
  },
  {
   "cell_type": "code",
   "execution_count": 12,
   "metadata": {},
   "outputs": [
    {
     "name": "stdout",
     "output_type": "stream",
     "text": [
      "Add went well!\n",
      "20\n"
     ]
    }
   ],
   "source": [
    "try: \n",
    "    # want to atempt this code\n",
    "    # may have an error\n",
    "    result = 10+10\n",
    "except:\n",
    "    print(\"Hey it looks like you aren't adding correctly\")\n",
    "else: \n",
    "    print(\"Add went well!\")\n",
    "    print(result)"
   ]
  },
  {
   "cell_type": "code",
   "execution_count": 11,
   "metadata": {},
   "outputs": [
    {
     "data": {
      "text/plain": [
       "20"
      ]
     },
     "execution_count": 11,
     "metadata": {},
     "output_type": "execute_result"
    }
   ],
   "source": [
    "result"
   ]
  },
  {
   "cell_type": "code",
   "execution_count": 14,
   "metadata": {},
   "outputs": [
    {
     "name": "stdout",
     "output_type": "stream",
     "text": [
      "I always run\n"
     ]
    }
   ],
   "source": [
    "try: \n",
    "    f = open('testfile', 'w')\n",
    "    f.write(\"Write a test line\")\n",
    "except TypeError:\n",
    "    print(\"There is a typing error!\")\n",
    "except OSError:\n",
    "    print(\"Hey, you have OS Error!\")\n",
    "finally:\n",
    "    print(\"I always run\")"
   ]
  },
  {
   "cell_type": "code",
   "execution_count": 15,
   "metadata": {},
   "outputs": [
    {
     "name": "stdout",
     "output_type": "stream",
     "text": [
      "Hey, you have OS Error!\n",
      "I always run\n"
     ]
    }
   ],
   "source": [
    "try: \n",
    "    f = open('testfile', 'r')\n",
    "    f.write(\"Write a test line\")\n",
    "except TypeError:\n",
    "    print(\"There is a typing error!\")\n",
    "except OSError:\n",
    "    print(\"Hey, you have OS Error!\")\n",
    "finally:\n",
    "    print(\"I always run\")"
   ]
  },
  {
   "cell_type": "code",
   "execution_count": 16,
   "metadata": {},
   "outputs": [
    {
     "name": "stdout",
     "output_type": "stream",
     "text": [
      "All other exceptions!\n",
      "I always run\n"
     ]
    }
   ],
   "source": [
    "try: \n",
    "    f = open('testfile', 'r')\n",
    "    f.write(\"Write a test line\")\n",
    "except TypeError:\n",
    "    print(\"There is a typing error!\")\n",
    "except:\n",
    "    print(\"All other exceptions!\")\n",
    "finally:\n",
    "    print(\"I always run\")"
   ]
  },
  {
   "cell_type": "code",
   "execution_count": 17,
   "metadata": {},
   "outputs": [],
   "source": [
    "def ask_for_int():\n",
    "    try:\n",
    "        result = int(input(\"Please provide a number: \"))\n",
    "    except:\n",
    "        print(\"Whoops ! that is not a number\")\n",
    "    finally:\n",
    "        print(\"End of try/escept/finally\")"
   ]
  },
  {
   "cell_type": "code",
   "execution_count": 19,
   "metadata": {},
   "outputs": [
    {
     "name": "stdout",
     "output_type": "stream",
     "text": [
      "End of try/escept/finally\n"
     ]
    }
   ],
   "source": [
    "ask_for_int()#10"
   ]
  },
  {
   "cell_type": "code",
   "execution_count": 20,
   "metadata": {},
   "outputs": [
    {
     "name": "stdout",
     "output_type": "stream",
     "text": [
      "Whoops ! that is not a number\n",
      "End of try/escept/finally\n"
     ]
    }
   ],
   "source": [
    "ask_for_int()#word"
   ]
  },
  {
   "cell_type": "code",
   "execution_count": 21,
   "metadata": {},
   "outputs": [],
   "source": [
    "\n",
    "def ask_for_int():\n",
    "\n",
    "    while True:\n",
    "        try:\n",
    "            result = int(input(\"Please provide a number: \"))\n",
    "        except:\n",
    "            print(\"Whoops ! that is not a number\")\n",
    "            continue\n",
    "        else:\n",
    "            print(\"Yes thank you!\")\n",
    "            break\n",
    "        finally:\n",
    "            print(\"End of try/escept/finally\")\n",
    "            print(\"I always runs in the end\")"
   ]
  },
  {
   "cell_type": "code",
   "execution_count": 22,
   "metadata": {},
   "outputs": [
    {
     "name": "stdout",
     "output_type": "stream",
     "text": [
      "Yes thank you!\n",
      "End of try/escept/finally\n",
      "I always runs in the end\n"
     ]
    }
   ],
   "source": [
    "ask_for_int()#10"
   ]
  },
  {
   "cell_type": "code",
   "execution_count": 24,
   "metadata": {},
   "outputs": [
    {
     "name": "stdout",
     "output_type": "stream",
     "text": [
      "Whoops ! that is not a number\n",
      "End of try/escept/finally\n",
      "I always runs in the end\n",
      "Yes thank you!\n",
      "End of try/escept/finally\n",
      "I always runs in the end\n"
     ]
    }
   ],
   "source": [
    "#r\n",
    "#20\n",
    "ask_for_int()"
   ]
  },
  {
   "cell_type": "code",
   "execution_count": 25,
   "metadata": {},
   "outputs": [],
   "source": [
    "def ask_for_int():\n",
    "\n",
    "    while True:\n",
    "        try:\n",
    "            result = int(input(\"Please provide a number: \"))\n",
    "        except:\n",
    "            print(\"Whoops ! that is not a number\")\n",
    "            continue\n",
    "        else:\n",
    "            print(\"Yes thank you!\")\n",
    "            break\n",
    "        finally:\n",
    "            print(\"I am going to ask you again!\\n\")\n",
    "           "
   ]
  },
  {
   "cell_type": "code",
   "execution_count": 26,
   "metadata": {},
   "outputs": [
    {
     "name": "stdout",
     "output_type": "stream",
     "text": [
      "Whoops ! that is not a number\n",
      "I am going to ask you again!\n",
      "\n",
      "Whoops ! that is not a number\n",
      "I am going to ask you again!\n",
      "\n",
      "Whoops ! that is not a number\n",
      "I am going to ask you again!\n",
      "\n",
      "Whoops ! that is not a number\n",
      "I am going to ask you again!\n",
      "\n",
      "Yes thank you!\n",
      "I am going to ask you again!\n",
      "\n"
     ]
    }
   ],
   "source": [
    "# input:\n",
    "#q \n",
    "#e\n",
    "#r\n",
    "#m\n",
    "#10\n",
    "ask_for_int()"
   ]
  },
  {
   "cell_type": "code",
   "execution_count": 27,
   "metadata": {},
   "outputs": [],
   "source": [
    "def ask_for_int():\n",
    "\n",
    "    while True:\n",
    "        try:\n",
    "            result = int(input(\"Please provide a number: \"))\n",
    "        except:\n",
    "            print(\"Whoops ! that is not a number\")\n",
    "            continue\n",
    "        else:\n",
    "            print(\"Yes thank you!\")\n",
    "            break"
   ]
  },
  {
   "cell_type": "code",
   "execution_count": 28,
   "metadata": {},
   "outputs": [
    {
     "name": "stdout",
     "output_type": "stream",
     "text": [
      "Whoops ! that is not a number\n",
      "Whoops ! that is not a number\n",
      "Whoops ! that is not a number\n",
      "Yes thank you!\n"
     ]
    }
   ],
   "source": [
    "ask_for_int()"
   ]
  },
  {
   "cell_type": "code",
   "execution_count": null,
   "metadata": {},
   "outputs": [],
   "source": []
  }
 ],
 "metadata": {
  "kernelspec": {
   "display_name": "Python 3.9.7 ('base')",
   "language": "python",
   "name": "python3"
  },
  "language_info": {
   "codemirror_mode": {
    "name": "ipython",
    "version": 3
   },
   "file_extension": ".py",
   "mimetype": "text/x-python",
   "name": "python",
   "nbconvert_exporter": "python",
   "pygments_lexer": "ipython3",
   "version": "3.9.7"
  },
  "orig_nbformat": 4,
  "vscode": {
   "interpreter": {
    "hash": "b3d12a30c639c3a494e062d6c4cc70e232cb1c584d6a6e220e40135ff73d5b15"
   }
  }
 },
 "nbformat": 4,
 "nbformat_minor": 2
}
