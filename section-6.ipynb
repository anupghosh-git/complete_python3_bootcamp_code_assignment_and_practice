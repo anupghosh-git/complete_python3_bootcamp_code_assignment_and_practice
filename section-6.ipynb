{
 "cells": [
  {
   "cell_type": "markdown",
   "id": "98a9c983",
   "metadata": {},
   "source": [
    "## Methods and the  Python Documentation"
   ]
  },
  {
   "cell_type": "code",
   "execution_count": 2,
   "id": "b15e589f",
   "metadata": {},
   "outputs": [],
   "source": [
    "def say_hello():\n",
    "    print(\"hello\")"
   ]
  },
  {
   "cell_type": "code",
   "execution_count": 3,
   "id": "659af8e9",
   "metadata": {},
   "outputs": [
    {
     "name": "stdout",
     "output_type": "stream",
     "text": [
      "hello\n"
     ]
    }
   ],
   "source": [
    "say_hello()"
   ]
  },
  {
   "cell_type": "code",
   "execution_count": 10,
   "id": "a4f20bf5",
   "metadata": {},
   "outputs": [],
   "source": [
    "def say_hello(name = 'Default'):\n",
    "    print(f'Hello {name}')"
   ]
  },
  {
   "cell_type": "code",
   "execution_count": 11,
   "id": "a488e3c2",
   "metadata": {},
   "outputs": [
    {
     "name": "stdout",
     "output_type": "stream",
     "text": [
      "Hello Default\n"
     ]
    }
   ],
   "source": [
    "say_hello()"
   ]
  },
  {
   "cell_type": "code",
   "execution_count": 12,
   "id": "e24b953b",
   "metadata": {},
   "outputs": [
    {
     "name": "stdout",
     "output_type": "stream",
     "text": [
      "Hello Anup\n"
     ]
    }
   ],
   "source": [
    "say_hello('Anup')"
   ]
  },
  {
   "cell_type": "code",
   "execution_count": 15,
   "id": "fdde15b9",
   "metadata": {},
   "outputs": [],
   "source": [
    "def add_num(num1,num2):\n",
    "    return num1 + num2"
   ]
  },
  {
   "cell_type": "code",
   "execution_count": 16,
   "id": "08bb4861",
   "metadata": {},
   "outputs": [
    {
     "data": {
      "text/plain": [
       "24"
      ]
     },
     "execution_count": 16,
     "metadata": {},
     "output_type": "execute_result"
    }
   ],
   "source": [
    "add_num(12,12)"
   ]
  },
  {
   "cell_type": "code",
   "execution_count": 17,
   "id": "f240b6b3",
   "metadata": {},
   "outputs": [],
   "source": [
    "result = add_num(12,12)"
   ]
  },
  {
   "cell_type": "code",
   "execution_count": 18,
   "id": "a99939f6",
   "metadata": {},
   "outputs": [
    {
     "data": {
      "text/plain": [
       "24"
      ]
     },
     "execution_count": 18,
     "metadata": {},
     "output_type": "execute_result"
    }
   ],
   "source": [
    "result"
   ]
  },
  {
   "cell_type": "code",
   "execution_count": 19,
   "id": "0b7a92ce",
   "metadata": {},
   "outputs": [],
   "source": [
    "def print_result(num1, num2):\n",
    "    print(num1 + num2)"
   ]
  },
  {
   "cell_type": "code",
   "execution_count": 20,
   "id": "df922991",
   "metadata": {},
   "outputs": [
    {
     "name": "stdout",
     "output_type": "stream",
     "text": [
      "24\n"
     ]
    }
   ],
   "source": [
    "result = print_result(12,12)"
   ]
  },
  {
   "cell_type": "code",
   "execution_count": 21,
   "id": "2915ba95",
   "metadata": {},
   "outputs": [],
   "source": [
    "result"
   ]
  },
  {
   "cell_type": "code",
   "execution_count": 22,
   "id": "cfa66fd5",
   "metadata": {},
   "outputs": [],
   "source": [
    "## print_result function does not the allow to save the result in a variable where return result allows it"
   ]
  },
  {
   "cell_type": "code",
   "execution_count": 27,
   "id": "de0b2738",
   "metadata": {},
   "outputs": [],
   "source": [
    "## return and printing result ath the same time:\n",
    "def return_print_result(num1,num2):\n",
    "    print(num1 + num2)\n",
    "    return num1 + num2"
   ]
  },
  {
   "cell_type": "code",
   "execution_count": 28,
   "id": "4bc3fb31",
   "metadata": {},
   "outputs": [
    {
     "name": "stdout",
     "output_type": "stream",
     "text": [
      "46\n"
     ]
    }
   ],
   "source": [
    "result = return_print_result(12,34)"
   ]
  },
  {
   "cell_type": "code",
   "execution_count": 29,
   "id": "d870f054",
   "metadata": {},
   "outputs": [
    {
     "data": {
      "text/plain": [
       "46"
      ]
     },
     "execution_count": 29,
     "metadata": {},
     "output_type": "execute_result"
    }
   ],
   "source": [
    "result\n"
   ]
  },
  {
   "cell_type": "code",
   "execution_count": 35,
   "id": "e3d59ea4",
   "metadata": {},
   "outputs": [],
   "source": [
    "# Data Type in Python: number, string... input in a function. As this programming language is dynamic data type, so this fuction accept all data type. And perform as data type \n",
    "def sum_numbers(num1, num2):\n",
    "    return num1 + num2"
   ]
  },
  {
   "cell_type": "code",
   "execution_count": 36,
   "id": "214a791d",
   "metadata": {},
   "outputs": [
    {
     "data": {
      "text/plain": [
       "39"
      ]
     },
     "execution_count": 36,
     "metadata": {},
     "output_type": "execute_result"
    }
   ],
   "source": [
    "sum_numbers(10,29)# addition"
   ]
  },
  {
   "cell_type": "code",
   "execution_count": 38,
   "id": "2a975a76",
   "metadata": {},
   "outputs": [
    {
     "data": {
      "text/plain": [
       "'1020'"
      ]
     },
     "execution_count": 38,
     "metadata": {},
     "output_type": "execute_result"
    }
   ],
   "source": [
    "sum_numbers('10', '20') # concatenation of string"
   ]
  },
  {
   "cell_type": "markdown",
   "id": "2b023c40",
   "metadata": {},
   "source": [
    "### Functions with Logic"
   ]
  },
  {
   "cell_type": "code",
   "execution_count": 39,
   "id": "526ba250",
   "metadata": {},
   "outputs": [],
   "source": [
    "def even_odd_num(num):\n",
    "    if num % 2 == 0:\n",
    "        return \"even\"\n",
    "    else:\n",
    "        return \"odd\"\n",
    "    "
   ]
  },
  {
   "cell_type": "code",
   "execution_count": 40,
   "id": "da2748a2",
   "metadata": {},
   "outputs": [
    {
     "data": {
      "text/plain": [
       "'even'"
      ]
     },
     "execution_count": 40,
     "metadata": {},
     "output_type": "execute_result"
    }
   ],
   "source": [
    "even_odd_num(10)"
   ]
  },
  {
   "cell_type": "code",
   "execution_count": 41,
   "id": "be408722",
   "metadata": {},
   "outputs": [],
   "source": [
    "def even_check(number):\n",
    "    return number % 2 == 0"
   ]
  },
  {
   "cell_type": "code",
   "execution_count": 42,
   "id": "09291328",
   "metadata": {},
   "outputs": [
    {
     "data": {
      "text/plain": [
       "False"
      ]
     },
     "execution_count": 42,
     "metadata": {},
     "output_type": "execute_result"
    }
   ],
   "source": [
    "even_check(21)"
   ]
  },
  {
   "cell_type": "code",
   "execution_count": 43,
   "id": "7b50db5f",
   "metadata": {},
   "outputs": [],
   "source": [
    "# RETURN  TRUE IF ANY NUMBER IS EVEN INSIDE A LIST"
   ]
  },
  {
   "cell_type": "code",
   "execution_count": 54,
   "id": "9ccef985",
   "metadata": {},
   "outputs": [],
   "source": [
    "def check_even_list(num_list):\n",
    "    # return all the even number in a list\n",
    "    # placeholder variables\n",
    "    even_numbers = []\n",
    "    for number in num_list:\n",
    "        if number %2 == 0:\n",
    "            even_numbers.append(number)\n",
    "        else:\n",
    "            pass\n",
    "    return even_numbers"
   ]
  },
  {
   "cell_type": "code",
   "execution_count": 55,
   "id": "5d33bda0",
   "metadata": {},
   "outputs": [
    {
     "data": {
      "text/plain": [
       "[]"
      ]
     },
     "execution_count": 55,
     "metadata": {},
     "output_type": "execute_result"
    }
   ],
   "source": [
    "check_even_list([1,3,5])"
   ]
  },
  {
   "cell_type": "code",
   "execution_count": 56,
   "id": "51392a21",
   "metadata": {},
   "outputs": [
    {
     "data": {
      "text/plain": [
       "[2]"
      ]
     },
     "execution_count": 56,
     "metadata": {},
     "output_type": "execute_result"
    }
   ],
   "source": [
    "check_even_list([2,3,5])"
   ]
  },
  {
   "cell_type": "code",
   "execution_count": 57,
   "id": "d37e317b",
   "metadata": {},
   "outputs": [
    {
     "data": {
      "text/plain": [
       "[4]"
      ]
     },
     "execution_count": 57,
     "metadata": {},
     "output_type": "execute_result"
    }
   ],
   "source": [
    "check_even_list([1,1,1,1,1,1,4])"
   ]
  },
  {
   "cell_type": "code",
   "execution_count": 58,
   "id": "0472959a",
   "metadata": {},
   "outputs": [
    {
     "data": {
      "text/plain": [
       "[2, 4, 6, 8, 2, 4, 6, 100]"
      ]
     },
     "execution_count": 58,
     "metadata": {},
     "output_type": "execute_result"
    }
   ],
   "source": [
    "check_even_list([2,4,6,7,8,9,2,3,4,5,6,100])"
   ]
  },
  {
   "cell_type": "markdown",
   "id": "9aaa8555",
   "metadata": {},
   "source": [
    "### Functions and Tuple Unpacking"
   ]
  },
  {
   "cell_type": "code",
   "execution_count": 59,
   "id": "ea078afd",
   "metadata": {},
   "outputs": [
    {
     "name": "stdout",
     "output_type": "stream",
     "text": [
      "('APPL', 200)\n",
      "('GOOG', 400)\n",
      "('MSFT', 100)\n"
     ]
    }
   ],
   "source": [
    "# Tuple review\n",
    "stock_prices = [('APPL', 200), ('GOOG', 400), ('MSFT', 100)]\n",
    "\n",
    "for item in stock_prices:\n",
    "    print(item)"
   ]
  },
  {
   "cell_type": "code",
   "execution_count": 61,
   "id": "8c8c8672",
   "metadata": {},
   "outputs": [
    {
     "name": "stdout",
     "output_type": "stream",
     "text": [
      "220.0\n",
      "440.0\n",
      "110.0\n"
     ]
    }
   ],
   "source": [
    "for ticker, price in stock_prices:\n",
    "    print(price + (0.1 * price))"
   ]
  },
  {
   "cell_type": "code",
   "execution_count": 65,
   "id": "6557c9da",
   "metadata": {},
   "outputs": [],
   "source": [
    "work_hours = [('Muller', 299), ('Neur', 600), ('Sane', 800)]"
   ]
  },
  {
   "cell_type": "code",
   "execution_count": 66,
   "id": "fb1a0293",
   "metadata": {},
   "outputs": [],
   "source": [
    "def employee_check(work_hours):\n",
    "    \n",
    "    current_max = 0\n",
    "    employee_of_month = ''\n",
    "    \n",
    "    for employee, hours in work_hours:\n",
    "        if hours > current_max:\n",
    "            current_max = hours\n",
    "            employee_of_month = employee\n",
    "        else:\n",
    "            pass\n",
    "    \n",
    "    \n",
    "    \n",
    "    return(employee_of_month, current_max)"
   ]
  },
  {
   "cell_type": "code",
   "execution_count": 68,
   "id": "ed707bb8",
   "metadata": {},
   "outputs": [],
   "source": [
    "result = employee_check(work_hours)"
   ]
  },
  {
   "cell_type": "code",
   "execution_count": 69,
   "id": "6290d77d",
   "metadata": {},
   "outputs": [
    {
     "data": {
      "text/plain": [
       "('Sane', 800)"
      ]
     },
     "execution_count": 69,
     "metadata": {},
     "output_type": "execute_result"
    }
   ],
   "source": [
    "result"
   ]
  },
  {
   "cell_type": "code",
   "execution_count": 70,
   "id": "1b5612fe",
   "metadata": {},
   "outputs": [],
   "source": [
    "name, hours = employee_check(work_hours)"
   ]
  },
  {
   "cell_type": "code",
   "execution_count": 71,
   "id": "21431723",
   "metadata": {},
   "outputs": [
    {
     "data": {
      "text/plain": [
       "'Sane'"
      ]
     },
     "execution_count": 71,
     "metadata": {},
     "output_type": "execute_result"
    }
   ],
   "source": [
    "name"
   ]
  },
  {
   "cell_type": "code",
   "execution_count": 72,
   "id": "1cf438df",
   "metadata": {},
   "outputs": [
    {
     "data": {
      "text/plain": [
       "800"
      ]
     },
     "execution_count": 72,
     "metadata": {},
     "output_type": "execute_result"
    }
   ],
   "source": [
    "hours"
   ]
  },
  {
   "cell_type": "markdown",
   "id": "81199262",
   "metadata": {},
   "source": [
    "### Interactions between the functions\n",
    "- develop three moug monkey game"
   ]
  },
  {
   "cell_type": "code",
   "execution_count": 73,
   "id": "7edf0d0c",
   "metadata": {},
   "outputs": [],
   "source": [
    "# random module- shuffle\n",
    "\n",
    "example = [1,2,3,4,5,6]\n"
   ]
  },
  {
   "cell_type": "code",
   "execution_count": 74,
   "id": "5dc53984",
   "metadata": {},
   "outputs": [],
   "source": [
    "from random import shuffle"
   ]
  },
  {
   "cell_type": "code",
   "execution_count": 75,
   "id": "beef0b25",
   "metadata": {},
   "outputs": [],
   "source": [
    "shuffle(example)"
   ]
  },
  {
   "cell_type": "code",
   "execution_count": 76,
   "id": "81b1fdca",
   "metadata": {},
   "outputs": [
    {
     "data": {
      "text/plain": [
       "[1, 2, 6, 3, 4, 5]"
      ]
     },
     "execution_count": 76,
     "metadata": {},
     "output_type": "execute_result"
    }
   ],
   "source": [
    "example"
   ]
  },
  {
   "cell_type": "code",
   "execution_count": 80,
   "id": "22ce9cc0",
   "metadata": {},
   "outputs": [],
   "source": [
    "result = shuffle(example)"
   ]
  },
  {
   "cell_type": "raw",
   "id": "39dede0c",
   "metadata": {},
   "source": [
    "result"
   ]
  },
  {
   "cell_type": "code",
   "execution_count": 81,
   "id": "931860f7",
   "metadata": {},
   "outputs": [
    {
     "data": {
      "text/plain": [
       "NoneType"
      ]
     },
     "execution_count": 81,
     "metadata": {},
     "output_type": "execute_result"
    }
   ],
   "source": [
    "type(result)"
   ]
  },
  {
   "cell_type": "code",
   "execution_count": 83,
   "id": "9aae869f",
   "metadata": {},
   "outputs": [],
   "source": [
    "def shuffle_list(mylist):\n",
    "    shuffle(mylist)\n",
    "    return mylist"
   ]
  },
  {
   "cell_type": "code",
   "execution_count": 84,
   "id": "b54da60e",
   "metadata": {},
   "outputs": [],
   "source": [
    "result = shuffle_list(example)"
   ]
  },
  {
   "cell_type": "code",
   "execution_count": 85,
   "id": "eb45768b",
   "metadata": {},
   "outputs": [
    {
     "data": {
      "text/plain": [
       "[4, 1, 3, 2, 6, 5]"
      ]
     },
     "execution_count": 85,
     "metadata": {},
     "output_type": "execute_result"
    }
   ],
   "source": [
    "result"
   ]
  },
  {
   "cell_type": "code",
   "execution_count": 86,
   "id": "10b3f479",
   "metadata": {},
   "outputs": [
    {
     "data": {
      "text/plain": [
       "list"
      ]
     },
     "execution_count": 86,
     "metadata": {},
     "output_type": "execute_result"
    }
   ],
   "source": [
    "type(result)"
   ]
  },
  {
   "cell_type": "code",
   "execution_count": 89,
   "id": "fe2b39fe",
   "metadata": {},
   "outputs": [],
   "source": [
    "mylist = [' ', 'O', ' ']"
   ]
  },
  {
   "cell_type": "code",
   "execution_count": 90,
   "id": "5f1d48bc",
   "metadata": {},
   "outputs": [
    {
     "data": {
      "text/plain": [
       "['O', ' ', ' ']"
      ]
     },
     "execution_count": 90,
     "metadata": {},
     "output_type": "execute_result"
    }
   ],
   "source": [
    "shuffle_list(mylist)"
   ]
  },
  {
   "cell_type": "code",
   "execution_count": 97,
   "id": "9107d96b",
   "metadata": {},
   "outputs": [],
   "source": [
    "def player_guess():\n",
    "    guess = ''\n",
    "    \n",
    "    while guess not in ['0', '1', '2']:\n",
    "        \n",
    "        guess = input(\"Pick a number: 0, 1,  or 2: \")\n",
    "        \n",
    "    return int(guess)"
   ]
  },
  {
   "cell_type": "code",
   "execution_count": 98,
   "id": "1b251bc1",
   "metadata": {},
   "outputs": [
    {
     "name": "stdout",
     "output_type": "stream",
     "text": [
      "Pick a number: 0, 1,  or 2: \n",
      "Pick a number: 0, 1,  or 2: \n",
      "Pick a number: 0, 1,  or 2: 1\n"
     ]
    },
    {
     "data": {
      "text/plain": [
       "1"
      ]
     },
     "execution_count": 98,
     "metadata": {},
     "output_type": "execute_result"
    }
   ],
   "source": [
    "player_guess()"
   ]
  },
  {
   "cell_type": "code",
   "execution_count": 99,
   "id": "ec008b09",
   "metadata": {},
   "outputs": [
    {
     "name": "stdout",
     "output_type": "stream",
     "text": [
      "Pick a number: 0, 1,  or 2: \n",
      "Pick a number: 0, 1,  or 2: 2\n"
     ]
    }
   ],
   "source": [
    "myindex = player_guess()"
   ]
  },
  {
   "cell_type": "code",
   "execution_count": 100,
   "id": "9bc14e36",
   "metadata": {},
   "outputs": [
    {
     "data": {
      "text/plain": [
       "2"
      ]
     },
     "execution_count": 100,
     "metadata": {},
     "output_type": "execute_result"
    }
   ],
   "source": [
    "myindex"
   ]
  },
  {
   "cell_type": "code",
   "execution_count": 101,
   "id": "b2632e36",
   "metadata": {},
   "outputs": [],
   "source": [
    "def check_guess(mylist, guess):\n",
    "    if mylist[guess] == 'O':\n",
    "        print(\"Correct!\")\n",
    "    else:\n",
    "        print(\"Wrong guess!\")\n",
    "        print(mylist)\n",
    "    "
   ]
  },
  {
   "cell_type": "code",
   "execution_count": 102,
   "id": "7f66e335",
   "metadata": {},
   "outputs": [
    {
     "name": "stdout",
     "output_type": "stream",
     "text": [
      "Pick a number: 0, 1,  or 2: 8\n",
      "Pick a number: 0, 1,  or 2: 1\n",
      "Correct!\n"
     ]
    }
   ],
   "source": [
    "# initialization of the list\n",
    "mylist = [' ', 'O', ' ']\n",
    "\n",
    "#shuffle the list\n",
    "mixedup_list = shuffle_list(mylist)\n",
    "\n",
    "# User guess\n",
    "guess   = player_guess()\n",
    "\n",
    "#check guess\n",
    "check_guess(mixedup_list, guess)\n"
   ]
  },
  {
   "cell_type": "code",
   "execution_count": 104,
   "id": "86028083",
   "metadata": {},
   "outputs": [
    {
     "name": "stdout",
     "output_type": "stream",
     "text": [
      "3\n",
      "5\n",
      "6\n",
      "7\n",
      "1\n",
      "2\n"
     ]
    }
   ],
   "source": [
    "nums = 3,5,6,7,1,2\n",
    "target = 5\n",
    "def find_loc(nums, target):\n",
    "    for num in nums:\n",
    "        print(num)\n",
    "find_loc(nums, target)"
   ]
  },
  {
   "cell_type": "code",
   "execution_count": null,
   "id": "1848b58b",
   "metadata": {},
   "outputs": [],
   "source": []
  }
 ],
 "metadata": {
  "kernelspec": {
   "display_name": "Python 3 (ipykernel)",
   "language": "python",
   "name": "python3"
  },
  "language_info": {
   "codemirror_mode": {
    "name": "ipython",
    "version": 3
   },
   "file_extension": ".py",
   "mimetype": "text/x-python",
   "name": "python",
   "nbconvert_exporter": "python",
   "pygments_lexer": "ipython3",
   "version": "3.9.12"
  }
 },
 "nbformat": 4,
 "nbformat_minor": 5
}
